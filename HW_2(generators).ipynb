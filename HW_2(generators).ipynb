{
  "nbformat": 4,
  "nbformat_minor": 0,
  "metadata": {
    "colab": {
      "provenance": [],
      "collapsed_sections": [
        "k91txez3jEgE"
      ],
      "include_colab_link": true
    },
    "kernelspec": {
      "name": "python3",
      "display_name": "Python 3"
    },
    "language_info": {
      "name": "python"
    }
  },
  "cells": [
    {
      "cell_type": "markdown",
      "metadata": {
        "id": "view-in-github",
        "colab_type": "text"
      },
      "source": [
        "<a href=\"https://colab.research.google.com/github/g0r0kh/HW_2_generators/blob/main/HW_2(generators).ipynb\" target=\"_parent\"><img src=\"https://colab.research.google.com/assets/colab-badge.svg\" alt=\"Open In Colab\"/></a>"
      ]
    },
    {
      "cell_type": "markdown",
      "source": [
        "## Декораторы\n",
        "\n",
        "Декораторы - вторая важная тема которую мы разобрали. Напомню, что декаратором является любая функция, которая берёт на вход другую функцию и возвращает её модификацию. Это определение подразумивает, что даже лямбда-представления всё ещё подходят под него.\n",
        "\n",
        "Сервис с визаулизацией https://cscircles.cemc.uwaterloo.ca/visualize#\n",
        "\n"
      ],
      "metadata": {
        "id": "EaKFusL2tKhC"
      }
    },
    {
      "cell_type": "code",
      "source": [
        "def make_bold(fn):\n",
        "    return lambda : \"<b>\" + fn() + \"</b>\"\n",
        "\n",
        "def make_italic(fn):\n",
        "    return lambda : \"<i>\" + fn() + \"</i>\"\n",
        "\n",
        "@make_bold\n",
        "@make_italic\n",
        "def hello():\n",
        "  return \"hello world\"\n",
        "\n",
        "helloHTML = hello()"
      ],
      "metadata": {
        "id": "6XMm0mFDtm7S"
      },
      "execution_count": null,
      "outputs": []
    },
    {
      "cell_type": "code",
      "source": [
        "helloHTML"
      ],
      "metadata": {
        "id": "mtTiM-efuKPi"
      },
      "execution_count": null,
      "outputs": []
    },
    {
      "cell_type": "markdown",
      "source": [
        "Декораторы - это достаточно сложная тема. Приведённые ниже задания варьируются от простых, которые требуют просто понимания как устроен декоратор - до продвинутых, которые могут оказаться слишком сложны. Выполнение всех не обязательно, ожидаю что вы попробуете выполнить их и получите некоторую практику самостоятельного написания декораторов.\n",
        "\n",
        "Для удобства откройте себе ноутбук с занятия про декораторы. Каждый декоратор можно сделать полностью сохраняющим аргументы-документацию-имена функций, это не обязательно но рекомендуется."
      ],
      "metadata": {
        "id": "rK1Rb3mgyX3h"
      }
    },
    {
      "cell_type": "markdown",
      "source": [
        "С имеющимися знаниями реализуйте:\n",
        "* Декоратор @even, который будет заменять функцию на идентичную, но каждое нечётное по порядку выполнение вместо исполнения не будет делать ничего (например вместо нормальной логики будет возвращать None и завершать работу.)"
      ],
      "metadata": {
        "id": "caamsuF-uOUx"
      }
    },
    {
      "cell_type": "code",
      "source": [
        "def even(f):\n",
        "    # ваша реализация\n",
        "    pass\n",
        "\n",
        "\n",
        "@even\n",
        "def print_hello(x):\n",
        "    print(\"hello\", x)"
      ],
      "metadata": {
        "id": "fUEUN7BGwM7a"
      },
      "execution_count": null,
      "outputs": []
    },
    {
      "cell_type": "code",
      "source": [
        "print_hello(1)\n",
        "print_hello(2)\n",
        "print_hello(3)\n",
        "print_hello(4)"
      ],
      "metadata": {
        "id": "uo_XrZMmzWiZ"
      },
      "execution_count": null,
      "outputs": []
    },
    {
      "cell_type": "markdown",
      "source": [
        "* Декоратор @clip, который пробрасывает в функцию все позиционные аргументы, при этом не пробрасывает ключевые (например @clip от print(1, 2, 3, sep=\"_\") напечатает \"1 2 3\", не применив sep)\n"
      ],
      "metadata": {
        "id": "U_Y_rRwhwNPa"
      }
    },
    {
      "cell_type": "code",
      "source": [
        "def clip(f):\n",
        "    # ваша реализация\n",
        "    pass\n",
        "\n",
        "\n",
        "@clip\n",
        "def print_clip(x, y, z = 0, s = \"~\"):\n",
        "    print(x, y, z, sep = s)"
      ],
      "metadata": {
        "id": "bz1n3Wl0wPGa"
      },
      "execution_count": null,
      "outputs": []
    },
    {
      "cell_type": "code",
      "source": [
        "print_clip(1, 2, z = 3, s = \"_\")       # 1~2~0\n",
        "print(1, 2, 3, sep = \"_\")              # 1_2_3"
      ],
      "metadata": {
        "id": "4U2RhoTvznh6"
      },
      "execution_count": null,
      "outputs": []
    },
    {
      "cell_type": "code",
      "source": [],
      "metadata": {
        "id": "hQD-lS5y2d1L"
      },
      "execution_count": null,
      "outputs": []
    },
    {
      "cell_type": "markdown",
      "source": [
        "* Декоратор @repeat(x) (нужно реализовать функцию repeat(x), которая возвращает в качестве результата декоратор), которая выполняет декорируемую функцию x раз (например @repeat(5) от print(1, end=\"\") выведет \"11111\"), и возвращает тюпл из значений-результатов (например @repeat(5) от sum([1, 2, 3]) вернёт (6, 6, 6, 6, 6))"
      ],
      "metadata": {
        "id": "xTwX9_HawPgS"
      }
    },
    {
      "cell_type": "code",
      "source": [
        "import random\n",
        "\n",
        "def repeat(x)\n",
        "    # ваша реализация внутри\n",
        "    def decorator(f):\n",
        "        pass\n",
        "    pass\n",
        "\n",
        "\n",
        "@repeat(50)\n",
        "def random_sum(n):\n",
        "    return sum(random.random() for i in range(n))"
      ],
      "metadata": {
        "id": "t2qUxauPwRFK"
      },
      "execution_count": null,
      "outputs": []
    },
    {
      "cell_type": "code",
      "source": [
        "random_sum(1_000_000) # должны получить tuple содержащий 50 сумм миллиона случайных чисел от 0 до 1"
      ],
      "metadata": {
        "id": "202lu0lk0ccK"
      },
      "execution_count": null,
      "outputs": []
    },
    {
      "cell_type": "markdown",
      "source": [
        "* Декоратор @cash, который по входным данным проверяет, была ли уже выполнена функция от таких аргументов, и если была - возвращает сохранённое значение. (для простоты можете считать, что функция, которую мы декорируем всегда имеет всего один хешируемый аргумент. Если чувствуете в себе силы, можете попробовать реализовать для общего случая)\n",
        "\n",
        "Например, если мы имеем простую функцию чисел Фибаначчи:\n",
        "\n",
        "```\n",
        "@cash\n",
        "def fib(x):\n",
        "  if x < 2:\n",
        "    return 1\n",
        "  else:\n",
        "    return fib(x-1) + fib(x-2)\n",
        "\n",
        "```\n",
        "\n",
        "Если вызвать fib(4) без декоратора - он сделает множество вызовов,\n",
        "\n",
        "```\n",
        "               1) fib(4)\n",
        "               /        \\\n",
        "         2) fib(3)   +   6) fib(2)\n",
        "           /    \\               \\\n",
        "    3) fib(2) + 5) fib(1)    7) fib(1)\n",
        "    /\n",
        " 4) fib(1)\n",
        "\n",
        "```\n",
        "\n",
        " Вместо этого, при первом вызове fib(1) (4 шаг) мы вернули 1 и запомнили что fib(1) = 1, и теперь при вызове этой функции с аргументом 1 возвращаем 1 без её вычисления (например на шаге 5 и 7).\n",
        "\n",
        " Аналогично после завершения на третьем шаге fib(2) - мы запоминаем что он равен двойке и на 6 шаге вместо вызова fib(2) и вызова в нём fib(1) мы так же сразу возвращаем 2\n",
        "\n",
        " Хранить значения рекомендую в замыкании декоратора"
      ],
      "metadata": {
        "id": "XL-OjadtwRXp"
      }
    },
    {
      "cell_type": "code",
      "source": [
        "def cash(f)\n",
        "    # ваша реализация внутри\n",
        "    # для хранения результатов можете, например, создать в этом замыкании словарь cash = dict() где ключами будут аргументы - а значениями return-ы\n",
        "    pass\n",
        "\n",
        "\n",
        "@cash\n",
        "def fib(x):\n",
        "  print(f\"вызвана фунция Фибоначчи f({x})\")\n",
        "  if x < 2:\n",
        "    return 1\n",
        "  else:\n",
        "    return fib(x-1) + fib(x-2)"
      ],
      "metadata": {
        "id": "HTiWxUAkwSH6"
      },
      "execution_count": null,
      "outputs": []
    },
    {
      "cell_type": "code",
      "source": [
        "fib(10) # здесь при первом вызове функции должны вызваться все f(a) для a из промежутка 0-10"
      ],
      "metadata": {
        "id": "xNZrgNwP1nEK"
      },
      "execution_count": null,
      "outputs": []
    },
    {
      "cell_type": "code",
      "source": [
        "fib(10) # повторный вызов функции не должен выводить ничего в поток вывода а сразу выдать значения"
      ],
      "metadata": {
        "id": "RJBY7VPZ1wlK"
      },
      "execution_count": null,
      "outputs": []
    },
    {
      "cell_type": "markdown",
      "source": [
        "Можем посмотреть на то, насколько быстрее работает наша функция по сравнению с ней же но без декоратора"
      ],
      "metadata": {
        "id": "aV-QQ7ol1-2C"
      }
    },
    {
      "cell_type": "code",
      "source": [
        "def old_fib(x):\n",
        "  if x < 2:\n",
        "    return 1\n",
        "  else:\n",
        "    return old_fib(x-1) + old_fib(x-2)"
      ],
      "metadata": {
        "id": "18jSK6dr12wS"
      },
      "execution_count": null,
      "outputs": []
    },
    {
      "cell_type": "code",
      "source": [
        "fib(100)"
      ],
      "metadata": {
        "id": "AQHq8UK-16ca"
      },
      "execution_count": null,
      "outputs": []
    },
    {
      "cell_type": "code",
      "source": [
        "old_fib(100)"
      ],
      "metadata": {
        "id": "s5La8Jkl18lS"
      },
      "execution_count": null,
      "outputs": []
    }
  ]
}